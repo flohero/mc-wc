{
 "cells": [
  {
   "cell_type": "code",
   "execution_count": 17,
   "metadata": {
    "collapsed": true
   },
   "outputs": [
    {
     "data": {
      "text/plain": "              Age      Weight      Height    Humidity  Temperature  \\\ncount  992.000000  992.000000  992.000000  962.000000   962.000000   \nmean    28.979133   73.383367  174.913508   48.211435    22.818565   \nstd     10.076653   12.005361    7.950027    8.560991     2.784066   \nmin     10.800000   41.000000  150.000000   23.700000    15.000000   \n25%     21.100000   66.000000  170.000000   42.000000    20.800000   \n50%     27.100000   73.000000  175.000000   47.000000    22.900000   \n75%     36.325000   80.225000  180.000000   54.000000    24.400000   \nmax     63.000000  135.000000  203.000000   69.000000    32.300000   \n\n              Sex          ID  \ncount  992.000000  992.000000  \nmean     0.150202  424.890121  \nstd      0.357449  243.832478  \nmin      0.000000    1.000000  \n25%      0.000000  214.750000  \n50%      0.000000  428.500000  \n75%      0.000000  626.250000  \nmax      1.000000  857.000000  ",
      "text/html": "<div>\n<style scoped>\n    .dataframe tbody tr th:only-of-type {\n        vertical-align: middle;\n    }\n\n    .dataframe tbody tr th {\n        vertical-align: top;\n    }\n\n    .dataframe thead th {\n        text-align: right;\n    }\n</style>\n<table border=\"1\" class=\"dataframe\">\n  <thead>\n    <tr style=\"text-align: right;\">\n      <th></th>\n      <th>Age</th>\n      <th>Weight</th>\n      <th>Height</th>\n      <th>Humidity</th>\n      <th>Temperature</th>\n      <th>Sex</th>\n      <th>ID</th>\n    </tr>\n  </thead>\n  <tbody>\n    <tr>\n      <th>count</th>\n      <td>992.000000</td>\n      <td>992.000000</td>\n      <td>992.000000</td>\n      <td>962.000000</td>\n      <td>962.000000</td>\n      <td>992.000000</td>\n      <td>992.000000</td>\n    </tr>\n    <tr>\n      <th>mean</th>\n      <td>28.979133</td>\n      <td>73.383367</td>\n      <td>174.913508</td>\n      <td>48.211435</td>\n      <td>22.818565</td>\n      <td>0.150202</td>\n      <td>424.890121</td>\n    </tr>\n    <tr>\n      <th>std</th>\n      <td>10.076653</td>\n      <td>12.005361</td>\n      <td>7.950027</td>\n      <td>8.560991</td>\n      <td>2.784066</td>\n      <td>0.357449</td>\n      <td>243.832478</td>\n    </tr>\n    <tr>\n      <th>min</th>\n      <td>10.800000</td>\n      <td>41.000000</td>\n      <td>150.000000</td>\n      <td>23.700000</td>\n      <td>15.000000</td>\n      <td>0.000000</td>\n      <td>1.000000</td>\n    </tr>\n    <tr>\n      <th>25%</th>\n      <td>21.100000</td>\n      <td>66.000000</td>\n      <td>170.000000</td>\n      <td>42.000000</td>\n      <td>20.800000</td>\n      <td>0.000000</td>\n      <td>214.750000</td>\n    </tr>\n    <tr>\n      <th>50%</th>\n      <td>27.100000</td>\n      <td>73.000000</td>\n      <td>175.000000</td>\n      <td>47.000000</td>\n      <td>22.900000</td>\n      <td>0.000000</td>\n      <td>428.500000</td>\n    </tr>\n    <tr>\n      <th>75%</th>\n      <td>36.325000</td>\n      <td>80.225000</td>\n      <td>180.000000</td>\n      <td>54.000000</td>\n      <td>24.400000</td>\n      <td>0.000000</td>\n      <td>626.250000</td>\n    </tr>\n    <tr>\n      <th>max</th>\n      <td>63.000000</td>\n      <td>135.000000</td>\n      <td>203.000000</td>\n      <td>69.000000</td>\n      <td>32.300000</td>\n      <td>1.000000</td>\n      <td>857.000000</td>\n    </tr>\n  </tbody>\n</table>\n</div>"
     },
     "execution_count": 17,
     "metadata": {},
     "output_type": "execute_result"
    }
   ],
   "source": [
    "import pandas as pd\n",
    "\n",
    "df = pd.read_csv('subjectinfo.csv')\n",
    "dfMeasure = pd.read_csv('testmeasure.csv')\n",
    "df.describe()"
   ]
  },
  {
   "cell_type": "code",
   "execution_count": 18,
   "outputs": [
    {
     "data": {
      "text/plain": "    Age  Weight  Height  Humidity  Temperature  Sex   ID ID_test\n0  10.8    48.8   163.0      39.0         20.7    1  543   543_1\n1  11.8    41.0   150.0      41.0         22.3    1   11    11_1\n2  12.2    46.0   160.0      37.0         21.5    0  829   829_1\n3  13.2    71.0   190.0      49.0         23.8    1  284   284_1\n4  13.7    53.8   169.7      40.0         25.3    0  341   341_1",
      "text/html": "<div>\n<style scoped>\n    .dataframe tbody tr th:only-of-type {\n        vertical-align: middle;\n    }\n\n    .dataframe tbody tr th {\n        vertical-align: top;\n    }\n\n    .dataframe thead th {\n        text-align: right;\n    }\n</style>\n<table border=\"1\" class=\"dataframe\">\n  <thead>\n    <tr style=\"text-align: right;\">\n      <th></th>\n      <th>Age</th>\n      <th>Weight</th>\n      <th>Height</th>\n      <th>Humidity</th>\n      <th>Temperature</th>\n      <th>Sex</th>\n      <th>ID</th>\n      <th>ID_test</th>\n    </tr>\n  </thead>\n  <tbody>\n    <tr>\n      <th>0</th>\n      <td>10.8</td>\n      <td>48.8</td>\n      <td>163.0</td>\n      <td>39.0</td>\n      <td>20.7</td>\n      <td>1</td>\n      <td>543</td>\n      <td>543_1</td>\n    </tr>\n    <tr>\n      <th>1</th>\n      <td>11.8</td>\n      <td>41.0</td>\n      <td>150.0</td>\n      <td>41.0</td>\n      <td>22.3</td>\n      <td>1</td>\n      <td>11</td>\n      <td>11_1</td>\n    </tr>\n    <tr>\n      <th>2</th>\n      <td>12.2</td>\n      <td>46.0</td>\n      <td>160.0</td>\n      <td>37.0</td>\n      <td>21.5</td>\n      <td>0</td>\n      <td>829</td>\n      <td>829_1</td>\n    </tr>\n    <tr>\n      <th>3</th>\n      <td>13.2</td>\n      <td>71.0</td>\n      <td>190.0</td>\n      <td>49.0</td>\n      <td>23.8</td>\n      <td>1</td>\n      <td>284</td>\n      <td>284_1</td>\n    </tr>\n    <tr>\n      <th>4</th>\n      <td>13.7</td>\n      <td>53.8</td>\n      <td>169.7</td>\n      <td>40.0</td>\n      <td>25.3</td>\n      <td>0</td>\n      <td>341</td>\n      <td>341_1</td>\n    </tr>\n  </tbody>\n</table>\n</div>"
     },
     "execution_count": 18,
     "metadata": {},
     "output_type": "execute_result"
    }
   ],
   "source": [
    "df.head()"
   ],
   "metadata": {
    "collapsed": false
   }
  },
  {
   "cell_type": "code",
   "execution_count": 19,
   "outputs": [],
   "source": [
    "age = df['Age']\n",
    "mass = df['Weight']\n",
    "gender = df['Sex']"
   ],
   "metadata": {
    "collapsed": false
   }
  },
  {
   "cell_type": "code",
   "execution_count": 26,
   "outputs": [],
   "source": [
    "vo2Max = dfMeasure['VO2'].max() / df['Weight']\n",
    "vo2Rest = dfMeasure['VO2'] / df['Weight']\n",
    "meanHR = dfMeasure['HR'].mean()\n",
    "restHR = dfMeasure[dfMeasure['HR'] > 40]['HR'].min()\n",
    "maxHR = dfMeasure['HR'].max()"
   ],
   "metadata": {
    "collapsed": false
   }
  },
  {
   "cell_type": "code",
   "execution_count": 22,
   "outputs": [],
   "source": [
    "slope = (vo2Max - vo2Rest) / (maxHR - restHR)\n",
    "vo2 = (meanHR - restHR) * slope + vo2Rest"
   ],
   "metadata": {
    "collapsed": false
   }
  },
  {
   "cell_type": "code",
   "execution_count": 23,
   "outputs": [
    {
     "data": {
      "text/plain": "      Age  Weight  Height  Humidity  Temperature  Sex   ID ID_test  EEPettitt  \\\n0    10.8    48.8   163.0      39.0         20.7    1  543   543_1    18.0694   \n1    11.8    41.0   150.0      41.0         22.3    1   11    11_1    17.9115   \n2    12.2    46.0   160.0      37.0         21.5    0  829   829_1    18.0099   \n3    13.2    71.0   190.0      49.0         23.8    1  284   284_1    18.0345   \n4    13.7    53.8   169.7      40.0         25.3    0  341   341_1    18.2663   \n..    ...     ...     ...       ...          ...  ...  ...     ...        ...   \n987  59.1    64.7   172.0      38.0         24.4    0  856   856_2    24.1760   \n988  59.7    65.2   172.0      51.0         16.8    0  856   856_3    24.1986   \n989  61.3   102.0   185.0      56.0         20.5    0  390   390_1    23.8232   \n990  61.6    74.0   169.0      46.0         23.9    0  596   596_1    24.1699   \n991  63.0    83.5   171.5      48.0         22.2    0  296   296_1    23.9032   \n\n     EEKeytel  \n0     16.9717  \n1     18.6422  \n2     25.6761  \n3     15.3714  \n4     25.8589  \n..        ...  \n987   29.6691  \n988   29.7610  \n989   35.5367  \n990   30.9588  \n991   32.4529  \n\n[992 rows x 10 columns]",
      "text/html": "<div>\n<style scoped>\n    .dataframe tbody tr th:only-of-type {\n        vertical-align: middle;\n    }\n\n    .dataframe tbody tr th {\n        vertical-align: top;\n    }\n\n    .dataframe thead th {\n        text-align: right;\n    }\n</style>\n<table border=\"1\" class=\"dataframe\">\n  <thead>\n    <tr style=\"text-align: right;\">\n      <th></th>\n      <th>Age</th>\n      <th>Weight</th>\n      <th>Height</th>\n      <th>Humidity</th>\n      <th>Temperature</th>\n      <th>Sex</th>\n      <th>ID</th>\n      <th>ID_test</th>\n      <th>EEPettitt</th>\n      <th>EEKeytel</th>\n    </tr>\n  </thead>\n  <tbody>\n    <tr>\n      <th>0</th>\n      <td>10.8</td>\n      <td>48.8</td>\n      <td>163.0</td>\n      <td>39.0</td>\n      <td>20.7</td>\n      <td>1</td>\n      <td>543</td>\n      <td>543_1</td>\n      <td>18.0694</td>\n      <td>16.9717</td>\n    </tr>\n    <tr>\n      <th>1</th>\n      <td>11.8</td>\n      <td>41.0</td>\n      <td>150.0</td>\n      <td>41.0</td>\n      <td>22.3</td>\n      <td>1</td>\n      <td>11</td>\n      <td>11_1</td>\n      <td>17.9115</td>\n      <td>18.6422</td>\n    </tr>\n    <tr>\n      <th>2</th>\n      <td>12.2</td>\n      <td>46.0</td>\n      <td>160.0</td>\n      <td>37.0</td>\n      <td>21.5</td>\n      <td>0</td>\n      <td>829</td>\n      <td>829_1</td>\n      <td>18.0099</td>\n      <td>25.6761</td>\n    </tr>\n    <tr>\n      <th>3</th>\n      <td>13.2</td>\n      <td>71.0</td>\n      <td>190.0</td>\n      <td>49.0</td>\n      <td>23.8</td>\n      <td>1</td>\n      <td>284</td>\n      <td>284_1</td>\n      <td>18.0345</td>\n      <td>15.3714</td>\n    </tr>\n    <tr>\n      <th>4</th>\n      <td>13.7</td>\n      <td>53.8</td>\n      <td>169.7</td>\n      <td>40.0</td>\n      <td>25.3</td>\n      <td>0</td>\n      <td>341</td>\n      <td>341_1</td>\n      <td>18.2663</td>\n      <td>25.8589</td>\n    </tr>\n    <tr>\n      <th>...</th>\n      <td>...</td>\n      <td>...</td>\n      <td>...</td>\n      <td>...</td>\n      <td>...</td>\n      <td>...</td>\n      <td>...</td>\n      <td>...</td>\n      <td>...</td>\n      <td>...</td>\n    </tr>\n    <tr>\n      <th>987</th>\n      <td>59.1</td>\n      <td>64.7</td>\n      <td>172.0</td>\n      <td>38.0</td>\n      <td>24.4</td>\n      <td>0</td>\n      <td>856</td>\n      <td>856_2</td>\n      <td>24.1760</td>\n      <td>29.6691</td>\n    </tr>\n    <tr>\n      <th>988</th>\n      <td>59.7</td>\n      <td>65.2</td>\n      <td>172.0</td>\n      <td>51.0</td>\n      <td>16.8</td>\n      <td>0</td>\n      <td>856</td>\n      <td>856_3</td>\n      <td>24.1986</td>\n      <td>29.7610</td>\n    </tr>\n    <tr>\n      <th>989</th>\n      <td>61.3</td>\n      <td>102.0</td>\n      <td>185.0</td>\n      <td>56.0</td>\n      <td>20.5</td>\n      <td>0</td>\n      <td>390</td>\n      <td>390_1</td>\n      <td>23.8232</td>\n      <td>35.5367</td>\n    </tr>\n    <tr>\n      <th>990</th>\n      <td>61.6</td>\n      <td>74.0</td>\n      <td>169.0</td>\n      <td>46.0</td>\n      <td>23.9</td>\n      <td>0</td>\n      <td>596</td>\n      <td>596_1</td>\n      <td>24.1699</td>\n      <td>30.9588</td>\n    </tr>\n    <tr>\n      <th>991</th>\n      <td>63.0</td>\n      <td>83.5</td>\n      <td>171.5</td>\n      <td>48.0</td>\n      <td>22.2</td>\n      <td>0</td>\n      <td>296</td>\n      <td>296_1</td>\n      <td>23.9032</td>\n      <td>32.4529</td>\n    </tr>\n  </tbody>\n</table>\n<p>992 rows × 10 columns</p>\n</div>"
     },
     "execution_count": 23,
     "metadata": {},
     "output_type": "execute_result"
    }
   ],
   "source": [
    "df['EEPettitt'] = round(vo2 * mass / 1000 * 4.8, 4)\n",
    "df['EEKeytel'] = round((-59.3954 + gender * (-36.3781 + 0.271 * age + 0.394 * mass + 0.404 * vo2Max + 0.634 * meanHR)\n",
    "                        + (1 - gender) * (0.274 * age + mass + 0.38 * vo2Max + 0.45 * meanHR)) / 4.184, 4)\n",
    "df"
   ],
   "metadata": {
    "collapsed": false
   }
  },
  {
   "cell_type": "code",
   "execution_count": 24,
   "outputs": [],
   "source": [
    "#df.to_csv('energyExposure.csv')"
   ],
   "metadata": {
    "collapsed": false
   }
  }
 ],
 "metadata": {
  "kernelspec": {
   "display_name": "Python 3",
   "language": "python",
   "name": "python3"
  },
  "language_info": {
   "codemirror_mode": {
    "name": "ipython",
    "version": 2
   },
   "file_extension": ".py",
   "mimetype": "text/x-python",
   "name": "python",
   "nbconvert_exporter": "python",
   "pygments_lexer": "ipython2",
   "version": "2.7.6"
  }
 },
 "nbformat": 4,
 "nbformat_minor": 0
}
